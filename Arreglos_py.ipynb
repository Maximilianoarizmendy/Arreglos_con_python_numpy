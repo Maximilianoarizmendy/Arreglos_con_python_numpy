{
  "nbformat": 4,
  "nbformat_minor": 0,
  "metadata": {
    "colab": {
      "provenance": [],
      "authorship_tag": "ABX9TyO+REkKmVCmdgyLKxPe11QG",
      "include_colab_link": true
    },
    "kernelspec": {
      "name": "python3",
      "display_name": "Python 3"
    },
    "language_info": {
      "name": "python"
    }
  },
  "cells": [
    {
      "cell_type": "markdown",
      "metadata": {
        "id": "view-in-github",
        "colab_type": "text"
      },
      "source": [
        "<a href=\"https://colab.research.google.com/github/Maximilianoarizmendy/Arreglos_con_python_numpy/blob/main/Arreglos_py.ipynb\" target=\"_parent\"><img src=\"https://colab.research.google.com/assets/colab-badge.svg\" alt=\"Open In Colab\"/></a>"
      ]
    },
    {
      "cell_type": "markdown",
      "source": [
        "*Arreglos con python*"
      ],
      "metadata": {
        "id": "fhz_TOorDzae"
      }
    },
    {
      "cell_type": "code",
      "source": [
        "vector = np.array([1, 2, 3, 4, 5,6 ,7, 8, 9, 10])\n",
        "print(\"Vector original:\", vector)"
      ],
      "metadata": {
        "id": "18-vlal9D8v1"
      },
      "execution_count": null,
      "outputs": []
    }
  ]
}